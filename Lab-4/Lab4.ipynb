{
 "cells": [
  {
   "cell_type": "markdown",
   "metadata": {
    "id": "TL96eHY6g6MT"
   },
   "source": [
    "**AIM : Implement Linear Regression Algorithm on the given dataset.**"
   ]
  },
  {
   "cell_type": "markdown",
   "metadata": {
    "id": "Mn4Hq6XRhAwg"
   },
   "source": [
    "**Exercise 1: Try Linear Regression just using numpy (Without Tensorflow/Pytorch or other torch library). You can optionally use sklearn.**"
   ]
  },
  {
   "cell_type": "code",
   "execution_count": 1,
   "metadata": {
    "executionInfo": {
     "elapsed": 5620,
     "status": "ok",
     "timestamp": 1645199096487,
     "user": {
      "displayName": "Bhavin Babariya",
      "photoUrl": "https://lh3.googleusercontent.com/a-/AOh14GgTRis1sLNzX8HguJoqoU-6K-s0LRBXaFrD9aRytA=s64",
      "userId": "08420770369552529751"
     },
     "user_tz": -330
    },
    "id": "x1Cj1rOEgUkx"
   },
   "outputs": [],
   "source": [
    "import numpy as np\n",
    "import torch"
   ]
  },
  {
   "cell_type": "code",
   "execution_count": 2,
   "metadata": {
    "executionInfo": {
     "elapsed": 8,
     "status": "ok",
     "timestamp": 1645199096490,
     "user": {
      "displayName": "Bhavin Babariya",
      "photoUrl": "https://lh3.googleusercontent.com/a-/AOh14GgTRis1sLNzX8HguJoqoU-6K-s0LRBXaFrD9aRytA=s64",
      "userId": "08420770369552529751"
     },
     "user_tz": -330
    },
    "id": "MZu8DQMKgY20"
   },
   "outputs": [],
   "source": [
    "#Input (Temp, Rainfall, Humidity)\n",
    "inputs = np.array([[73, 67, 43],\n",
    "                  [91, 88, 64],\n",
    "                  [87, 134, 58],\n",
    "                  [102, 43, 37],\n",
    "                  [69, 96, 70]], dtype='float32')\n",
    "\n",
    "#Target (Apples)\n",
    "targets = np.array([[56],\n",
    "                    [81],\n",
    "                    [119],\n",
    "                    [22],\n",
    "                    [103]], dtype='float32')\n",
    "\n",
    "#Converting inputs and targets to tensors\n",
    "inputs = torch.from_numpy(inputs)\n",
    "targets = torch.from_numpy(targets)"
   ]
  },
  {
   "cell_type": "code",
   "execution_count": 3,
   "metadata": {
    "colab": {
     "base_uri": "https://localhost:8080/"
    },
    "executionInfo": {
     "elapsed": 9,
     "status": "ok",
     "timestamp": 1645199102098,
     "user": {
      "displayName": "Bhavin Babariya",
      "photoUrl": "https://lh3.googleusercontent.com/a-/AOh14GgTRis1sLNzX8HguJoqoU-6K-s0LRBXaFrD9aRytA=s64",
      "userId": "08420770369552529751"
     },
     "user_tz": -330
    },
    "id": "pQm1YWQOgd5H",
    "outputId": "acd686b7-0e34-42df-e6c8-d85ca7dfa490"
   },
   "outputs": [
    {
     "name": "stdout",
     "output_type": "stream",
     "text": [
      "Weights : \n",
      " tensor([[-0.8250,  1.3650, -0.2997]], requires_grad=True)\n",
      "\n",
      "Biases : \n",
      " tensor([-1.1576], requires_grad=True)\n"
     ]
    }
   ],
   "source": [
    "#Weights and Biases\n",
    "w = torch.randn(1, 3, requires_grad=True)\n",
    "b = torch.randn(1, requires_grad=True)\n",
    "\n",
    "print(\"Weights : \\n\", w)\n",
    "print(\"\\nBiases : \\n\", b)"
   ]
  },
  {
   "cell_type": "code",
   "execution_count": 4,
   "metadata": {
    "executionInfo": {
     "elapsed": 451,
     "status": "ok",
     "timestamp": 1645199132097,
     "user": {
      "displayName": "Bhavin Babariya",
      "photoUrl": "https://lh3.googleusercontent.com/a-/AOh14GgTRis1sLNzX8HguJoqoU-6K-s0LRBXaFrD9aRytA=s64",
      "userId": "08420770369552529751"
     },
     "user_tz": -330
    },
    "id": "QU3yYbqJgnnO"
   },
   "outputs": [],
   "source": [
    "#Defining the model\n",
    "def model(x):\n",
    "    return  torch.mm(x, w.t(), out=None) + b"
   ]
  },
  {
   "cell_type": "code",
   "execution_count": 5,
   "metadata": {
    "colab": {
     "base_uri": "https://localhost:8080/"
    },
    "executionInfo": {
     "elapsed": 742,
     "status": "ok",
     "timestamp": 1645199141003,
     "user": {
      "displayName": "Bhavin Babariya",
      "photoUrl": "https://lh3.googleusercontent.com/a-/AOh14GgTRis1sLNzX8HguJoqoU-6K-s0LRBXaFrD9aRytA=s64",
      "userId": "08420770369552529751"
     },
     "user_tz": -330
    },
    "id": "dwfhEOJpgprB",
    "outputId": "be316425-a214-4c3c-cfaf-cf04cc26c6b2"
   },
   "outputs": [
    {
     "name": "stdout",
     "output_type": "stream",
     "text": [
      "Predictions : \n",
      " tensor([[ 17.1802],\n",
      "        [ 24.7002],\n",
      "        [ 92.5865],\n",
      "        [-37.7069],\n",
      "        [ 51.9726]], grad_fn=<AddBackward0>)\n",
      "\n",
      "Targets : \n",
      " tensor([[ 56.],\n",
      "        [ 81.],\n",
      "        [119.],\n",
      "        [ 22.],\n",
      "        [103.]])\n"
     ]
    }
   ],
   "source": [
    "#Generating Predictions\n",
    "preds = model(inputs)\n",
    "\n",
    "#Comparing Predictions with targets\n",
    "print(\"Predictions : \\n\", preds)\n",
    "print(\"\\nTargets : \\n\", targets)"
   ]
  },
  {
   "cell_type": "code",
   "execution_count": 6,
   "metadata": {
    "colab": {
     "base_uri": "https://localhost:8080/"
    },
    "executionInfo": {
     "elapsed": 7,
     "status": "ok",
     "timestamp": 1645199149824,
     "user": {
      "displayName": "Bhavin Babariya",
      "photoUrl": "https://lh3.googleusercontent.com/a-/AOh14GgTRis1sLNzX8HguJoqoU-6K-s0LRBXaFrD9aRytA=s64",
      "userId": "08420770369552529751"
     },
     "user_tz": -330
    },
    "id": "ZJmpCR29gr0U",
    "outputId": "263027f8-03a9-4f49-a5f1-a825f1fbf9cd"
   },
   "outputs": [
    {
     "name": "stdout",
     "output_type": "stream",
     "text": [
      "MSE Loss :  tensor(2308.6047, grad_fn=<SelectBackward0>)\n"
     ]
    }
   ],
   "source": [
    "#Defining MSE loss function\n",
    "def MSELoss(P, T): \n",
    "  sum = 0\n",
    "  n = len(T)\n",
    "  for j in range(0, n):\n",
    "    sum += (T[j] - P[j]) * (T[j] - P[j])\n",
    "  return sum / n\n",
    "\n",
    "loss = MSELoss(preds, targets)\n",
    "print(\"MSE Loss : \", loss[0])    "
   ]
  },
  {
   "cell_type": "code",
   "execution_count": 7,
   "metadata": {
    "colab": {
     "base_uri": "https://localhost:8080/"
    },
    "executionInfo": {
     "elapsed": 5,
     "status": "ok",
     "timestamp": 1645199159875,
     "user": {
      "displayName": "Bhavin Babariya",
      "photoUrl": "https://lh3.googleusercontent.com/a-/AOh14GgTRis1sLNzX8HguJoqoU-6K-s0LRBXaFrD9aRytA=s64",
      "userId": "08420770369552529751"
     },
     "user_tz": -330
    },
    "id": "StdYRk1hgtzh",
    "outputId": "954c36e5-f0c6-4e70-bd0a-83d07ebe8e06"
   },
   "outputs": [
    {
     "name": "stdout",
     "output_type": "stream",
     "text": [
      "Gradients for weights : \n",
      " tensor([[-7946.4375, -7424.2969, -5034.1968]])\n",
      "\n",
      "Gradient for biases: \n",
      " tensor([-92.9070])\n"
     ]
    }
   ],
   "source": [
    "#Computing Gradient\n",
    "loss.backward()\n",
    "print(\"Gradients for weights : \\n\", w.grad)\n",
    "print(\"\\nGradient for biases: \\n\", b.grad)\n"
   ]
  },
  {
   "cell_type": "code",
   "execution_count": 8,
   "metadata": {
    "colab": {
     "base_uri": "https://localhost:8080/"
    },
    "executionInfo": {
     "elapsed": 459,
     "status": "ok",
     "timestamp": 1645199180641,
     "user": {
      "displayName": "Bhavin Babariya",
      "photoUrl": "https://lh3.googleusercontent.com/a-/AOh14GgTRis1sLNzX8HguJoqoU-6K-s0LRBXaFrD9aRytA=s64",
      "userId": "08420770369552529751"
     },
     "user_tz": -330
    },
    "id": "tW9SY_JmguPY",
    "outputId": "35b9205a-fc7c-4c38-f024-db8c3df8b280"
   },
   "outputs": [
    {
     "name": "stdout",
     "output_type": "stream",
     "text": [
      "Gradients for weights : \n",
      " tensor([[0., 0., 0.]])\n",
      "\n",
      "Gradient for biases: \n",
      " tensor([0.])\n",
      "\n",
      "New Weights : \n",
      " tensor([[-0.7456,  1.4392, -0.2493]], requires_grad=True)\n",
      "\n",
      "New Biases : \n",
      " tensor([-1.1567], requires_grad=True)\n"
     ]
    }
   ],
   "source": [
    "#Adjusting weights and biases using Gradient Descent\n",
    "#Reseting gradients\n",
    "with torch.no_grad():\n",
    "    w -= w.grad * 1e-5\n",
    "    b -= b.grad * 1e-5\n",
    "    w.grad.zero_()\n",
    "    b.grad.zero_()\n",
    "\n",
    "print(\"Gradients for weights : \\n\", w.grad)\n",
    "print(\"\\nGradient for biases: \\n\", b.grad)\n",
    "\n",
    "print(\"\\nNew Weights : \\n\", w)\n",
    "print(\"\\nNew Biases : \\n\", b)"
   ]
  },
  {
   "cell_type": "code",
   "execution_count": 9,
   "metadata": {
    "colab": {
     "base_uri": "https://localhost:8080/"
    },
    "executionInfo": {
     "elapsed": 449,
     "status": "ok",
     "timestamp": 1645199190145,
     "user": {
      "displayName": "Bhavin Babariya",
      "photoUrl": "https://lh3.googleusercontent.com/a-/AOh14GgTRis1sLNzX8HguJoqoU-6K-s0LRBXaFrD9aRytA=s64",
      "userId": "08420770369552529751"
     },
     "user_tz": -330
    },
    "id": "jv45_nQCg1x3",
    "outputId": "3189f5af-0085-4402-9d7a-e4f1053eff5a"
   },
   "outputs": [
    {
     "name": "stdout",
     "output_type": "stream",
     "text": [
      "New MSE Loss :  tensor(1128.6193, grad_fn=<SelectBackward0>)\n"
     ]
    }
   ],
   "source": [
    "#Calculating  new loss\n",
    "preds = model(inputs)\n",
    "\n",
    "loss = MSELoss(preds, targets)\n",
    "print(\"New MSE Loss : \", loss[0])  "
   ]
  },
  {
   "cell_type": "code",
   "execution_count": 10,
   "metadata": {
    "colab": {
     "base_uri": "https://localhost:8080/"
    },
    "executionInfo": {
     "elapsed": 446,
     "status": "ok",
     "timestamp": 1645199197075,
     "user": {
      "displayName": "Bhavin Babariya",
      "photoUrl": "https://lh3.googleusercontent.com/a-/AOh14GgTRis1sLNzX8HguJoqoU-6K-s0LRBXaFrD9aRytA=s64",
      "userId": "08420770369552529751"
     },
     "user_tz": -330
    },
    "id": "0ryh3Ahag3hA",
    "outputId": "51310219-75c8-43d4-f74a-6885a4b185d4"
   },
   "outputs": [
    {
     "name": "stdout",
     "output_type": "stream",
     "text": [
      "MSE Loss :  tensor(80.8520, grad_fn=<SelectBackward0>)\n"
     ]
    }
   ],
   "source": [
    "# Train for 100 epochs\n",
    "for i in range(100):\n",
    "    preds = model(inputs)\n",
    "    loss = MSELoss(preds, targets)\n",
    "    loss.backward()\n",
    "    with torch.no_grad():\n",
    "        w -= w.grad * 1e-5\n",
    "        b -= b.grad * 1e-5\n",
    "        w.grad.zero_()\n",
    "        b.grad.zero_()\n",
    "\n",
    "preds = model(inputs)\n",
    "loss = MSELoss(preds, targets)\n",
    "print(\"MSE Loss : \", loss[0])  "
   ]
  },
  {
   "cell_type": "markdown",
   "metadata": {
    "id": "FKDXcNhShH8w"
   },
   "source": [
    "**Exercise 2: Try Linear regression on same prediction data using Tensorflow**"
   ]
  },
  {
   "cell_type": "code",
   "execution_count": 11,
   "metadata": {
    "executionInfo": {
     "elapsed": 690,
     "status": "ok",
     "timestamp": 1645199280107,
     "user": {
      "displayName": "Bhavin Babariya",
      "photoUrl": "https://lh3.googleusercontent.com/a-/AOh14GgTRis1sLNzX8HguJoqoU-6K-s0LRBXaFrD9aRytA=s64",
      "userId": "08420770369552529751"
     },
     "user_tz": -330
    },
    "id": "Gwm9UUnUhK1d"
   },
   "outputs": [],
   "source": [
    "import torch.nn as nn"
   ]
  },
  {
   "cell_type": "code",
   "execution_count": 12,
   "metadata": {
    "executionInfo": {
     "elapsed": 426,
     "status": "ok",
     "timestamp": 1645199286548,
     "user": {
      "displayName": "Bhavin Babariya",
      "photoUrl": "https://lh3.googleusercontent.com/a-/AOh14GgTRis1sLNzX8HguJoqoU-6K-s0LRBXaFrD9aRytA=s64",
      "userId": "08420770369552529751"
     },
     "user_tz": -330
    },
    "id": "errfgpblhNUq"
   },
   "outputs": [],
   "source": [
    "#Input (Temp, Rainfall, Humidity)\n",
    "inputs = np.array([[73, 67, 43],\n",
    "                  [91, 88, 64],\n",
    "                  [87, 134, 58],\n",
    "                  [102, 43, 37],\n",
    "                  [69, 96, 70]], dtype='float32')\n",
    "\n",
    "#Target (Apples)\n",
    "targets = np.array([[56],\n",
    "                    [81],\n",
    "                    [119],\n",
    "                    [22],\n",
    "                    [103]], dtype='float32')\n",
    "\n",
    "#Converting inputs and targets to tensors\n",
    "inputs = torch.from_numpy(inputs)\n",
    "targets = torch.from_numpy(targets)"
   ]
  },
  {
   "cell_type": "code",
   "execution_count": 13,
   "metadata": {
    "colab": {
     "base_uri": "https://localhost:8080/"
    },
    "executionInfo": {
     "elapsed": 6,
     "status": "ok",
     "timestamp": 1645199293672,
     "user": {
      "displayName": "Bhavin Babariya",
      "photoUrl": "https://lh3.googleusercontent.com/a-/AOh14GgTRis1sLNzX8HguJoqoU-6K-s0LRBXaFrD9aRytA=s64",
      "userId": "08420770369552529751"
     },
     "user_tz": -330
    },
    "id": "NwfRLUwRhPMP",
    "outputId": "c8eaef52-b6ad-4687-a27d-015a22577033"
   },
   "outputs": [
    {
     "name": "stdout",
     "output_type": "stream",
     "text": [
      "Weights : \n",
      " tensor([[0.3567, 1.8210, 0.2669]], requires_grad=True)\n",
      "\n",
      "Biases : \n",
      " tensor([0.6189], requires_grad=True)\n"
     ]
    }
   ],
   "source": [
    "#Weights and Biases\n",
    "w = torch.randn(1, 3, requires_grad=True)\n",
    "b = torch.randn(1, requires_grad=True)\n",
    "\n",
    "print(\"Weights : \\n\", w)\n",
    "print(\"\\nBiases : \\n\", b)"
   ]
  },
  {
   "cell_type": "code",
   "execution_count": 14,
   "metadata": {
    "executionInfo": {
     "elapsed": 4,
     "status": "ok",
     "timestamp": 1645199299930,
     "user": {
      "displayName": "Bhavin Babariya",
      "photoUrl": "https://lh3.googleusercontent.com/a-/AOh14GgTRis1sLNzX8HguJoqoU-6K-s0LRBXaFrD9aRytA=s64",
      "userId": "08420770369552529751"
     },
     "user_tz": -330
    },
    "id": "4YEI8ihJhQst"
   },
   "outputs": [],
   "source": [
    "#Defining the model\n",
    "def model(x):\n",
    "    return  x @ w.t() + b"
   ]
  },
  {
   "cell_type": "code",
   "execution_count": 15,
   "metadata": {
    "colab": {
     "base_uri": "https://localhost:8080/"
    },
    "executionInfo": {
     "elapsed": 6,
     "status": "ok",
     "timestamp": 1645199307648,
     "user": {
      "displayName": "Bhavin Babariya",
      "photoUrl": "https://lh3.googleusercontent.com/a-/AOh14GgTRis1sLNzX8HguJoqoU-6K-s0LRBXaFrD9aRytA=s64",
      "userId": "08420770369552529751"
     },
     "user_tz": -330
    },
    "id": "dbnZWJtZhSdT",
    "outputId": "7e0d40d1-32a6-4409-807d-53931e4352ca"
   },
   "outputs": [
    {
     "name": "stdout",
     "output_type": "stream",
     "text": [
      "Predictions : \n",
      " tensor([[160.1391],\n",
      "        [210.4048],\n",
      "        [291.1433],\n",
      "        [125.1769],\n",
      "        [218.7275]], grad_fn=<AddBackward0>)\n",
      "\n",
      "Targets : \n",
      " tensor([[ 56.],\n",
      "        [ 81.],\n",
      "        [119.],\n",
      "        [ 22.],\n",
      "        [103.]])\n"
     ]
    }
   ],
   "source": [
    "#Generating Predictions\n",
    "preds = model(inputs)\n",
    "\n",
    "#Comparing Predictions with targets\n",
    "print(\"Predictions : \\n\", preds)\n",
    "print(\"\\nTargets : \\n\", targets)"
   ]
  },
  {
   "cell_type": "code",
   "execution_count": 17,
   "metadata": {
    "colab": {
     "base_uri": "https://localhost:8080/"
    },
    "executionInfo": {
     "elapsed": 581,
     "status": "ok",
     "timestamp": 1645199318067,
     "user": {
      "displayName": "Bhavin Babariya",
      "photoUrl": "https://lh3.googleusercontent.com/a-/AOh14GgTRis1sLNzX8HguJoqoU-6K-s0LRBXaFrD9aRytA=s64",
      "userId": "08420770369552529751"
     },
     "user_tz": -330
    },
    "id": "g02ql6NehUbg",
    "outputId": "15891090-bafb-481d-c4ad-13d1f749d5a2"
   },
   "outputs": [
    {
     "name": "stdout",
     "output_type": "stream",
     "text": [
      "MSE Loss :  tensor(16252.4375, grad_fn=<MseLossBackward0>)\n"
     ]
    }
   ],
   "source": [
    "MSELoss = nn.MSELoss()\n",
    "loss = MSELoss(preds, targets)\n",
    "print(\"MSE Loss : \", loss) "
   ]
  },
  {
   "cell_type": "code",
   "execution_count": 18,
   "metadata": {
    "colab": {
     "base_uri": "https://localhost:8080/"
    },
    "executionInfo": {
     "elapsed": 6,
     "status": "ok",
     "timestamp": 1645199335248,
     "user": {
      "displayName": "Bhavin Babariya",
      "photoUrl": "https://lh3.googleusercontent.com/a-/AOh14GgTRis1sLNzX8HguJoqoU-6K-s0LRBXaFrD9aRytA=s64",
      "userId": "08420770369552529751"
     },
     "user_tz": -330
    },
    "id": "WliarWsPhW0F",
    "outputId": "b2ce8184-9be4-4e98-ca7d-3ca8fb81231c"
   },
   "outputs": [
    {
     "name": "stdout",
     "output_type": "stream",
     "text": [
      "\n",
      "Gradients for weights : \n",
      " tensor([[21145.4805, 22791.4375, 13865.0693]])\n",
      "\n",
      "Gradient for biases: \n",
      " tensor([249.8366])\n"
     ]
    }
   ],
   "source": [
    "\n",
    "#Computing Gradient\n",
    "loss.backward()\n",
    "print(\"\\nGradients for weights : \\n\", w.grad)\n",
    "print(\"\\nGradient for biases: \\n\", b.grad)"
   ]
  },
  {
   "cell_type": "code",
   "execution_count": 19,
   "metadata": {
    "colab": {
     "base_uri": "https://localhost:8080/"
    },
    "executionInfo": {
     "elapsed": 6,
     "status": "ok",
     "timestamp": 1645199342281,
     "user": {
      "displayName": "Bhavin Babariya",
      "photoUrl": "https://lh3.googleusercontent.com/a-/AOh14GgTRis1sLNzX8HguJoqoU-6K-s0LRBXaFrD9aRytA=s64",
      "userId": "08420770369552529751"
     },
     "user_tz": -330
    },
    "id": "Ux5EgUXyha5r",
    "outputId": "d1fe1a6f-aadc-420f-fe56-908850f7b89a"
   },
   "outputs": [
    {
     "name": "stdout",
     "output_type": "stream",
     "text": [
      "MSE Loss :  tensor(51.9856, grad_fn=<MseLossBackward0>)\n"
     ]
    }
   ],
   "source": [
    "# Train for 100 epochs\n",
    "for i in range(100):\n",
    "    preds = model(inputs)\n",
    "    loss = MSELoss(preds, targets)\n",
    "    loss.backward()\n",
    "    with torch.no_grad():\n",
    "        w -= w.grad * 1e-5\n",
    "        b -= b.grad * 1e-5\n",
    "        w.grad.zero_()\n",
    "        b.grad.zero_()\n",
    "\n",
    "preds = model(inputs)\n",
    "loss = MSELoss(preds, targets)\n",
    "print(\"MSE Loss : \", loss)"
   ]
  }
 ],
 "metadata": {
  "colab": {
   "authorship_tag": "ABX9TyMALy7SQOT/kBYsbJmg0UsF",
   "collapsed_sections": [],
   "name": "Untitled1.ipynb",
   "provenance": []
  },
  "kernelspec": {
   "display_name": "Python 3",
   "language": "python",
   "name": "python3"
  },
  "language_info": {
   "codemirror_mode": {
    "name": "ipython",
    "version": 3
   },
   "file_extension": ".py",
   "mimetype": "text/x-python",
   "name": "python",
   "nbconvert_exporter": "python",
   "pygments_lexer": "ipython3",
   "version": "3.8.5"
  }
 },
 "nbformat": 4,
 "nbformat_minor": 1
}
