{
 "cells": [
  {
   "cell_type": "markdown",
   "metadata": {},
   "source": [
    "# 1. Create a Numpy array of size 4 x 5."
   ]
  },
  {
   "cell_type": "code",
   "execution_count": 3,
   "metadata": {
    "scrolled": true
   },
   "outputs": [
    {
     "name": "stdout",
     "output_type": "stream",
     "text": [
      "[[1 1 2 3 4]\n",
      " [7 5 6 4 8]\n",
      " [4 1 7 3 2]\n",
      " [4 1 6 3 8]]\n"
     ]
    }
   ],
   "source": [
    "import numpy as np\n",
    "x = np.array([[1,1,2,3,4],[7,5,6,4,8],[4,1,7,3,2],[4,1,6,3,8]])\n",
    "print(x)"
   ]
  },
  {
   "cell_type": "markdown",
   "metadata": {},
   "source": [
    "# 2. Randomly initialize the array."
   ]
  },
  {
   "cell_type": "code",
   "execution_count": 7,
   "metadata": {},
   "outputs": [
    {
     "name": "stdout",
     "output_type": "stream",
     "text": [
      "[[0.84405081 0.05837376]\n",
      " [0.12194268 0.69571888]\n",
      " [0.72050237 0.80126291]]\n"
     ]
    }
   ],
   "source": [
    "y=np.random.rand(3,2)\n",
    "print(y)"
   ]
  },
  {
   "cell_type": "markdown",
   "metadata": {},
   "source": [
    "# 3. Get the Transpose of the Matrix that you created. Create a square matrix and find its determinant."
   ]
  },
  {
   "cell_type": "code",
   "execution_count": 4,
   "metadata": {},
   "outputs": [
    {
     "name": "stdout",
     "output_type": "stream",
     "text": [
      "-1520\n",
      "[[1 7 4 4 4]\n",
      " [1 5 1 1 9]\n",
      " [2 6 7 6 6]\n",
      " [3 4 3 3 7]\n",
      " [4 8 2 8 8]]\n"
     ]
    }
   ],
   "source": [
    "x = np.array([[1,1,2,3,4],[7,5,6,4,8],[4,1,7,3,2],[4,1,6,3,8],[4,9,6,7,8]])\n",
    "# only square matrix allowed\n",
    "dett = np.linalg.det(x)\n",
    "print(int(dett))\n",
    "\n",
    "# transpose of matrix\n",
    "z = x.transpose()\n",
    "print(z)"
   ]
  },
  {
   "cell_type": "markdown",
   "metadata": {},
   "source": [
    "# 4. Create another matrix of size 5 x 4 and randomly initialize it."
   ]
  },
  {
   "cell_type": "code",
   "execution_count": 2,
   "metadata": {},
   "outputs": [
    {
     "name": "stdout",
     "output_type": "stream",
     "text": [
      "Array initialized with Random value :\n",
      " [[0.72916849 0.91402765 0.7435103  0.7286343 ]\n",
      " [0.98162536 0.66169129 0.11650891 0.9828324 ]\n",
      " [0.36881613 0.44801243 0.39615633 0.84938638]\n",
      " [0.34206971 0.56952341 0.95948167 0.88530499]\n",
      " [0.21648354 0.52619391 0.23921044 0.43735275]]\n"
     ]
    }
   ],
   "source": [
    "import numpy as np\n",
    "mat4 = np.random.rand(5,4)\n",
    "print(\"Array initialized with Random value :\\n\",mat4)"
   ]
  },
  {
   "cell_type": "markdown",
   "metadata": {},
   "source": [
    "# 5. Perform Matrix multiplication."
   ]
  },
  {
   "cell_type": "code",
   "execution_count": 4,
   "metadata": {},
   "outputs": [
    {
     "name": "stdout",
     "output_type": "stream",
     "text": [
      "[[ 68  43  60  61]\n",
      " [172 153 184 187]\n",
      " [ 90  88 130 114]\n",
      " [176 146 230 228]]\n",
      "\n",
      "\n",
      "[[ 68  43  60  61]\n",
      " [172 153 184 187]\n",
      " [ 90  88 130 114]\n",
      " [176 146 230 228]]\n"
     ]
    }
   ],
   "source": [
    "p = np.array([[0,1,2,3,4],[4,3,6,9,8],[4,5,3,3,4],[4,7,9,7,8]])\n",
    "q = np.array([[2,9,6,3],[3,2,10,8],[2,1,6,9],[7,9,6,9],[10,3,5,2]])\n",
    "print(np.dot(p,q))\n",
    "print('\\n')\n",
    "# @ method\n",
    "print(p@q)"
   ]
  },
  {
   "cell_type": "markdown",
   "metadata": {},
   "source": [
    "# 6. Perform element wise matrix multiplication."
   ]
  },
  {
   "cell_type": "code",
   "execution_count": 5,
   "metadata": {},
   "outputs": [
    {
     "name": "stdout",
     "output_type": "stream",
     "text": [
      "[[ 0  9 12  9 24]\n",
      " [12  6 60 72 64]\n",
      " [ 8  5 18 27  8]\n",
      " [28 63 54 63 56]]\n"
     ]
    }
   ],
   "source": [
    "p = np.array([[0,1,2,3,4],[4,3,6,9,8],[4,5,3,3,4],[4,7,9,7,8]])\n",
    "q = np.array([[2,9,6,3,6],[3,2,10,8,8],[2,1,6,9,2],[7,9,6,9,7]])\n",
    "print(np.multiply(p,q))"
   ]
  },
  {
   "cell_type": "markdown",
   "metadata": {},
   "source": [
    "# 7. Find mean, median of the numpy array created."
   ]
  },
  {
   "cell_type": "code",
   "execution_count": 6,
   "metadata": {},
   "outputs": [
    {
     "name": "stdout",
     "output_type": "stream",
     "text": [
      "30.5\n",
      "33.166666666666664\n"
     ]
    }
   ],
   "source": [
    "w = np.array([17,11,24,37,39,71])\n",
    "# median of 1D array\n",
    "print(np.median(w))\n",
    "\n",
    "# mean of 1D arary\n",
    "print(np.mean(w))"
   ]
  },
  {
   "cell_type": "markdown",
   "metadata": {},
   "source": [
    "# 8. Obtain each row in the second column of the first array."
   ]
  },
  {
   "cell_type": "code",
   "execution_count": 19,
   "metadata": {},
   "outputs": [
    {
     "name": "stdout",
     "output_type": "stream",
     "text": [
      "[1 3 5 7]\n"
     ]
    }
   ],
   "source": [
    "print(p[0:,1])"
   ]
  },
  {
   "cell_type": "markdown",
   "metadata": {},
   "source": [
    "# 9. Convert Numeric entries(columns) of Iris.csv to Mean Centered Version"
   ]
  },
  {
   "cell_type": "code",
   "execution_count": 8,
   "metadata": {},
   "outputs": [
    {
     "name": "stdout",
     "output_type": "stream",
     "text": [
      "Id               75.500000\n",
      "SepalLengthCm     5.843333\n",
      "SepalWidthCm      3.054000\n",
      "PetalLengthCm     3.758667\n",
      "PetalWidthCm      1.198667\n",
      "dtype: float64\n"
     ]
    }
   ],
   "source": [
    "import pandas as pd\n",
    "iris=pd.read_csv('iris.csv')\n",
    "print(iris.mean())"
   ]
  },
  {
   "cell_type": "markdown",
   "metadata": {},
   "source": [
    "# 10. Study about numpy array attributes and implement it on the first matrix."
   ]
  },
  {
   "cell_type": "code",
   "execution_count": 22,
   "metadata": {},
   "outputs": [
    {
     "name": "stdout",
     "output_type": "stream",
     "text": [
      "(2, 5)\n",
      "[[7 1]\n",
      " [2 3]\n",
      " [9 5]\n",
      " [3 7]\n",
      " [3 2]]\n"
     ]
    }
   ],
   "source": [
    "import numpy as np\n",
    "a = np.array([[7,1,2,3,9],[5,3,7,3,2]]) \n",
    "print(a.shape)\n",
    "b = a.reshape(5,2)\n",
    "print(b)"
   ]
  }
 ],
 "metadata": {
  "kernelspec": {
   "display_name": "Python 3",
   "language": "python",
   "name": "python3"
  },
  "language_info": {
   "codemirror_mode": {
    "name": "ipython",
    "version": 3
   },
   "file_extension": ".py",
   "mimetype": "text/x-python",
   "name": "python",
   "nbconvert_exporter": "python",
   "pygments_lexer": "ipython3",
   "version": "3.8.5"
  }
 },
 "nbformat": 4,
 "nbformat_minor": 4
}
